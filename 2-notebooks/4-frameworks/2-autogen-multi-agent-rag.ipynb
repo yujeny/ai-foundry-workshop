{
 "cells": [
  {
   "cell_type": "markdown",
   "id": "title-cell",
   "metadata": {},
   "source": [
    "# 🏋️‍♂️ zure AI Foundry를 사용한 피트니스 및 건강을 위한 멀티 에이전트 RAG 🥑\n",
    "\n",
    "재미있는 셀프 가이드 워크샵에 오신 것을 환영합니다. AutoGen 0.4.7과 Azure AI Foundry를 사용하여 다중 에이전트 검색 증강 생성(RAG) 파이프라인을 빌드합니다. 에이전트 팀이 협력하여 피트니스 및 건강 관련 질문에 여러가지 방식으로 답변해 드립니다!"
   ]
  },
  {
   "cell_type": "markdown",
   "id": "setup-markdown",
   "metadata": {},
   "source": [
    "## 1. 설정\n",
    "\n",
    "필요한 라이브러리를 가져오고 Azure AI Foundry를 사용하여 모델 클라이언트를 설정해 보겠습니다. 환경 변수 `GITHUB_TOKEN`이 개인 액세스 토큰으로 설정되어 있는지 확인합니다."
   ]
  },
  {
   "cell_type": "code",
   "execution_count": null,
   "id": "setup-code",
   "metadata": {},
   "outputs": [],
   "source": [
    "import os\n",
    "import asyncio\n",
    "\n",
    "# Import AutoGen agents and required modules\n",
    "from autogen_agentchat.agents import AssistantAgent\n",
    "from autogen_agentchat.teams import RoundRobinGroupChat\n",
    "from autogen_agentchat.messages import TextMessage\n",
    "from autogen_core import CancellationToken\n",
    "\n",
    "# Import the Azure AI Foundry model client from AutoGen extensions\n",
    "from autogen_ext.models.azure import AzureAIChatCompletionClient\n",
    "from autogen_core.models import UserMessage\n",
    "from azure.core.credentials import AzureKeyCredential\n",
    "\n",
    "# Create the model client using Azure AI Foundry\n",
    "model_client = AzureAIChatCompletionClient(\n",
    "    model=os.environ[\"MODEL_DEPLOYMENT_NAME\"],\n",
    "    endpoint=\"https://models.inference.ai.azure.com\",\n",
    "    credential=AzureKeyCredential(os.environ[\"GITHUB_TOKEN\"]),\n",
    "    model_info={\n",
    "        \"json_output\": False,\n",
    "        \"function_calling\": False,\n",
    "        \"vision\": False,\n",
    "        \"family\": \"unknown\"\n",
    "    }\n",
    ")\n",
    "\n",
    "print(\"✅ Azure AI Foundry model client created successfully!\")"
   ]
  },
  {
   "cell_type": "markdown",
   "id": "health-data-markdown",
   "metadata": {},
   "source": [
    "## 2. 샘플 건강 데이터 및 검색 도구 만들기\n",
    "\n",
    "간단한 건강 팁 목록과 간단한 검색 기능을 정의하겠습니다. 이 함수는 사용자 쿼리의 키워드를 기반으로 관련 건강 팁을 검색하는 것을 시뮬레이션합니다."
   ]
  },
  {
   "cell_type": "code",
   "execution_count": null,
   "id": "health-data-code",
   "metadata": {},
   "outputs": [],
   "source": [
    "# Define sample health tips\n",
    "health_tips = [\n",
    "    {\"id\": \"tip1\", \"content\": \"Do a 10-minute HIIT workout to boost your metabolism.\", \"source\": \"Fitness Guru\"},\n",
    "    {\"id\": \"tip2\", \"content\": \"Take a brisk 15-minute walk to clear your mind and improve circulation.\", \"source\": \"Health Coach\"},\n",
    "    {\"id\": \"tip3\", \"content\": \"Stretch for 5 minutes every hour if you're sitting at a desk.\", \"source\": \"Wellness Expert\"},\n",
    "    {\"id\": \"tip4\", \"content\": \"Incorporate strength training twice a week for overall fitness.\", \"source\": \"Personal Trainer\"},\n",
    "    {\"id\": \"tip5\", \"content\": \"Drink water regularly to stay hydrated during workouts.\", \"source\": \"Nutritionist\"}\n",
    "]\n",
    "\n",
    "def retrieve_tips(query: str) -> str:\n",
    "    \"\"\"Return health tips whose content contains keywords from the query.\"\"\"\n",
    "    query_lower = query.lower()\n",
    "    relevant = []\n",
    "    for tip in health_tips:\n",
    "        # Check if any word in the query is in the tip content\n",
    "        if any(word in tip[\"content\"].lower() for word in query_lower.split()):\n",
    "            relevant.append(f\"Source: {tip['source']} => {tip['content']}\")\n",
    "    if not relevant:\n",
    "        # If no tips match, return all tips (for demo purposes)\n",
    "        relevant = [f\"Source: {tip['source']} => {tip['content']}\" for tip in health_tips]\n",
    "    return \"\\n\".join(relevant)\n",
    "\n",
    "print(\"✅ Sample health tips and retrieval tool created!\")"
   ]
  },
  {
   "cell_type": "markdown",
   "id": "pipeline-markdown",
   "metadata": {},
   "source": [
    "## 3. 멀티 에이전트 RAG 파이프라인 정의하기\n",
    "\n",
    "두 개의 에이전트를 생성합니다:\n",
    "\n",
    "1. **RetrieverAgent**: 사용자의 쿼리를 기반으로 관련 피트니스 및 건강 팁을 가져오기 위해 `retrieve_tips` 도구를 사용합니다.\n",
    "2. **ResponderAgent**: 검색된 팁을 사용자의 쿼리와 함께 사용하여 재미있고 매력적인 응답을 작성합니다.\n",
    "\n",
    "이러한 에이전트는 공동 문제 해결을 시뮬레이션하기 위해 RoundRobinGroupChat에 결합됩니다."
   ]
  },
  {
   "cell_type": "code",
   "execution_count": null,
   "id": "pipeline-code",
   "metadata": {},
   "outputs": [],
   "source": [
    "# Define the RetrieverAgent with the retrieve_tips tool\n",
    "retriever = AssistantAgent(\n",
    "    name=\"RetrieverAgent\",\n",
    "    system_message=(\n",
    "        \"You are a smart retrieval agent. Your task is to fetch relevant fitness and health tips based on the user's query. \"\n",
    "        \"Use the provided tool 'retrieve_tips' to get the information.\"\n",
    "    ),\n",
    "    model_client=model_client,\n",
    "    tools=[retrieve_tips],  # Register the retrieval tool\n",
    "    reflect_on_tool_use=True\n",
    ")\n",
    "\n",
    "# Define the ResponderAgent which uses the retrieved tips to craft a response\n",
    "responder = AssistantAgent(\n",
    "    name=\"ResponderAgent\",\n",
    "    system_message=(\n",
    "        \"You are a friendly fitness coach. Use the health tips provided to craft a fun and engaging response to the user's question.\"\n",
    "    ),\n",
    "    model_client=model_client\n",
    ")\n",
    "\n",
    "# Combine the two agents in a RoundRobinGroupChat\n",
    "group_chat = RoundRobinGroupChat(\n",
    "    agents=[retriever, responder],\n",
    "    termination_condition=None,  # For simplicity, we run a fixed number of turns\n",
    "    max_turns=4  # Limit the conversation to 4 turns\n",
    ")\n",
    "\n",
    "print(\"✅ Multi-agent RAG pipeline defined!\")"
   ]
  },
  {
   "cell_type": "markdown",
   "id": "try-query-markdown",
   "metadata": {},
   "source": [
    "## 4. 쿼리 시도하기\n",
    "\n",
    "재미있는 피트니스 쿼리로 멀티 에이전트 RAG 시스템을 테스트해 보겠습니다. 예를 들어:\n",
    "\n",
    "> **User Query:** _I'm very busy but want to stay fit. What quick exercises can I do?_"
   ]
  },
  {
   "cell_type": "code",
   "execution_count": null,
   "id": "try-query-code",
   "metadata": {},
   "outputs": [],
   "source": [
    "async def run_query():\n",
    "    user_query = \"I'm very busy but want to stay fit. What quick exercises can I do?\"\n",
    "\n",
    "    # Run the group chat to process the query\n",
    "    final_result = None\n",
    "    async for message in group_chat.run_stream(task=user_query):\n",
    "        # Print each message as it is produced\n",
    "        if hasattr(message, 'content'):\n",
    "            print(f\"{message.source}: {message.content}\")\n",
    "        final_result = message\n",
    "    \n",
    "    print(\"\\n✅ Final response:\", final_result.content if final_result else \"No response\")\n",
    "\n",
    "asyncio.run(run_query())"
   ]
  },
  {
   "cell_type": "markdown",
   "id": "conclusion-markdown",
   "metadata": {},
   "source": [
    "## 5. 결론\n",
    "\n",
    "이 노트북에서는 Azure AI Foundry와 피트니스 및 건강 테마가 포함된 AutoGen 0.4.7을 사용하여 재미있는 멀티 에이전트 검색-증강 생성 파이프라인을 구축했습니다. 관련 건강 정보를 가져오는 검색 에이전트와 사용자의 쿼리에 대한 매력적인 답변을 작성하는 응답자 에이전트를 만들었습니다.\n",
    "\n",
    "이 노트북을 자유롭게 수정하고 확장하여 더 발전된 다중 에이전트 협업을 탐색해 보세요. 즐겁게 코딩하시고, 건강에 유의하세요! 💪🥦"
   ]
  }
 ],
 "metadata": {
  "kernelspec": {
   "display_name": ".venv",
   "language": "python",
   "name": "python3"
  },
  "language_info": {
   "codemirror_mode": {
    "name": "ipython",
    "version": 3
   },
   "file_extension": ".py",
   "mimetype": "text/x-python",
   "name": "python",
   "nbconvert_exporter": "python",
   "pygments_lexer": "ipython3",
   "version": "3.11.11"
  }
 },
 "nbformat": 4,
 "nbformat_minor": 5
}
