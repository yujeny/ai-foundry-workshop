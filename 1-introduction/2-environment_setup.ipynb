{
 "cells": [
  {
   "cell_type": "markdown",
   "id": "ff53b1e0",
   "metadata": {},
   "source": [
    "# Azure AI Foundry 워크샵 환경 설정\n",
    "\n",
    "이 노트북은 Azure AI Foundry 워크샵을 위한 환경 설정 방법을 안내합니다.\n",
    "\n",
    "## 전제 조건\n",
    "- Python 3.8 이상\n",
    "- Azure AI 서비스에 접근 가능한 Azure 구독\n",
    "- 파이썬 기본 지식"
   ]
  },
  {
   "cell_type": "code",
   "execution_count": null,
   "id": "32f4ec2a",
   "metadata": {},
   "outputs": [],
   "source": [
    "# Install required packages (if not already installed):\n",
    "!pip install azure-identity azure-ai-projects"
   ]
  },
  {
   "cell_type": "markdown",
   "id": "5a108d90",
   "metadata": {},
   "source": [
    "## Azure 인증 설정\n",
    "먼저 Azure 자격 증명 및 설정을 확인합니다."
   ]
  },
  {
   "cell_type": "code",
   "execution_count": null,
   "id": "714b5791",
   "metadata": {},
   "outputs": [],
   "source": [
    "from azure.identity import DefaultAzureCredential\n",
    "from azure.ai.projects import AIProjectClient\n",
    "from azure.ai.projects.models import ConnectionType\n",
    "import os\n",
    "\n",
    "# Initialize Azure credentials\n",
    "try:\n",
    "    credential = DefaultAzureCredential()\n",
    "    print(\"✓ Successfully initialized DefaultAzureCredential\")\n",
    "except Exception as e:\n",
    "    print(f\"× Error initializing credentials: {str(e)}\")"
   ]
  },
  {
   "cell_type": "markdown",
   "id": "87e22718",
   "metadata": {},
   "source": [
    "## AI 프로젝트 클라이언트 초기화\n",
    "\n",
    "> **참고:** 계속 진행하기 전에 다음 사항을 확인하세요:\n",
    "> 1. `.env.local` 파일을 `.env`에 복사합니다.\n",
    "> 2. `.env` 파일에서 프로젝트 연결 문자열을 업데이트합니다.\n",
    "> 3. Azure AI Foundry에 허브 및 프로젝트를 프로비전하여 배포해서 가지고 있어야 합니다.\n",
    "\n",
    "프로젝트의 설정 아래에서 [Azure AI Foundry](https://ai.azure.com) 프로젝트 연결 문자열을 찾을 수 있습니다:\n",
    "\n",
    "<img src=\"proj-conn-string.png\" alt=\"Project Connection String Location\" width=\"600\"/>\n",
    "\n"
   ]
  },
  {
   "cell_type": "markdown",
   "id": "ad3e2dbc",
   "metadata": {},
   "source": [
    "## AIProjectClient 이해하기\n",
    "\n",
    "AIProjectClient는 Azure AI 서비스와의 상호 작용을 위한 핵심 구성 요소입니다:\n",
    "\n",
    "- **연결 관리**: OpenAI 모델과 같은 Azure AI 리소스를 나열하고 접근합니다.\n",
    "- **인증 처리**: Azure 자격 증명을 사용하여 안전하게 연결합니다.\n",
    "- **모델 접근 활성화**: AI 모델 및 배포를 사용하기 위한 인터페이스를 제공합니다.\n",
    "- **프로젝트 설정 관리**: Azure AI 프로젝트의 구성을 제어합니다.\n",
    "\n",
    "클라이언트에서 다음이 필요합니다:\n",
    "- 프로젝트 연결 문자열 (Azure AI project 설정에서 찾을 수 있습니다)\n",
    "- 유효한 자격증명\n",
    "\n",
    "프로젝트 연결 문자열은 Azure AI Studio의 프로젝트 설정에서 찾을 수 있습니다:\n",
    "\n"
   ]
  },
  {
   "cell_type": "code",
   "execution_count": null,
   "id": "2ac8b2fd",
   "metadata": {},
   "outputs": [],
   "source": [
    "from dotenv import load_dotenv\n",
    "from pathlib import Path\n",
    "\n",
    "# Load environment variables\n",
    "notebook_path = Path().absolute()\n",
    "parent_dir = notebook_path.parent\n",
    "load_dotenv(parent_dir / '.env')\n",
    "\n",
    "# Initialize AIProjectClient with connection string and credentials\n",
    "try:\n",
    "    client = AIProjectClient.from_connection_string(\n",
    "        conn_str=os.getenv(\"PROJECT_CONNECTION_STRING\"),\n",
    "        credential=credential\n",
    "    )\n",
    "    print(\"✓ Successfully initialized AIProjectClient\")\n",
    "except Exception as e:\n",
    "    print(f\"× Error initializing client: {str(e)}\")"
   ]
  },
  {
   "cell_type": "markdown",
   "id": "10962ac9",
   "metadata": {},
   "source": [
    "## 모델에 대한 접근과 연결 검증\n",
    "[사전 요구 사항](../README.md#-prerequisites)에 지정된 모든 필수 모델 및 연결에 액세스할 수 있는지 확인해 보겠습니다.\n",
    "\n",
    "유효성을 검사해봅시다:\n",
    "- 채팅/완성을 위한 GPT 모델(gpt-4o, gpt-4o-mini) \n",
    "- 벡터 검색을 위한 임베딩 모델 \n",
    "- [Bing으로 Grounding](https://learn.microsoft.com/en-us/azure/ai-services/agents/how-to/tools/bing-grounding?view=azure-python-preview&tabs=python&pivots=overview)\n",
    "- Azure AI Search 연결\n",
    "\n",
    "이 유효성 검사를 통해 AI 애플리케이션을 빌드하는 데 필요한 모든 구성 요소를 갖출 수 있습니다."
   ]
  },
  {
   "cell_type": "code",
   "execution_count": null,
   "id": "1fff9d11",
   "metadata": {},
   "outputs": [],
   "source": [
    "# List the properties of all connections\n",
    "connections = client.connections.list()\n",
    "print(f\"====> Listing of all connections (found {len(connections)}):\")\n",
    "for connection in connections:\n",
    "    print(connection)\n",
    "\n",
    "# List the properties of all connections of a particular \"type\" (in this sample, Azure OpenAI connections)\n",
    "connections = client.connections.list(\n",
    "    connection_type=ConnectionType.AZURE_OPEN_AI,\n",
    ")\n",
    "print(f\"====> Listing of all Azure Open AI connections (found {len(connections)}):\")\n",
    "for connection in connections:\n",
    "    print(connection)\n",
    "\n",
    "# Get the properties of the default connection of a particular \"type\", with credentials\n",
    "connection = client.connections.get_default(\n",
    "    connection_type=ConnectionType.AZURE_AI_SERVICES,\n",
    "    include_credentials=True,  # Optional. Defaults to \"False\"\n",
    ")\n",
    "print(\"====> Get default Azure AI Services connection:\")\n",
    "print(connection)\n",
    "\n",
    "print(\"====> Get connection by name:\")\n",
    "print(connection)"
   ]
  },
  {
   "cell_type": "markdown",
   "id": "f75c4895",
   "metadata": {},
   "source": [
    "## 모델 및 검색 연결 유효성 검사\n",
    "다음 코드로 프로비저닝 및 연결이 올바르게 이루어졌는지 확인합니다:\n",
    "1. Azure OpenAI 연결을 통한 Azure OpenAI 모델\n",
    "2. Azure AI 검색 연결을 통한 Azure AI 검색\n",
    "\n",
    "이 두 서비스는 모두 AI 애플리케이션을 구축하는 데 필수적입니다. OpenAI 모델은 핵심 언어 기능을 제공하는 반면 Azure AI Search는 효율적인 정보 검색 및 지식 기반 기능을 지원합니다.\n",
    "\n"
   ]
  },
  {
   "cell_type": "code",
   "execution_count": null,
   "id": "79dd3f5b",
   "metadata": {},
   "outputs": [],
   "source": [
    "# List all connections and check for specific types\n",
    "conn_list = client.connections.list()\n",
    "search_conn_id = \"\"\n",
    "openai_conn_id = \"\"\n",
    "\n",
    "for conn in conn_list:\n",
    "    conn_type = str(conn.connection_type).split('.')[-1]  # Get the part after the dot\n",
    "    if conn_type == \"AZURE_AI_SEARCH\":\n",
    "        search_conn_id = conn.id\n",
    "    elif conn_type == \"AZURE_OPEN_AI\":\n",
    "        openai_conn_id = conn.id\n",
    "\n",
    "print(f\"\\n====> Connection IDs found:\")\n",
    "if not search_conn_id:\n",
    "    print(\"Azure AI Search: Not found - Please create an Azure AI Search connection\")\n",
    "else:\n",
    "    print(f\"Azure AI Search: {search_conn_id}\")\n",
    "    \n",
    "if not openai_conn_id:\n",
    "    print(\"Azure OpenAI: Not found - Please create an Azure OpenAI connection\") \n",
    "else:\n",
    "    print(f\"Azure OpenAI: {openai_conn_id}\")"
   ]
  }
 ],
 "metadata": {
  "kernelspec": {
   "display_name": ".venv",
   "language": "python",
   "name": "python3"
  },
  "language_info": {
   "codemirror_mode": {
    "name": "ipython",
    "version": 3
   },
   "file_extension": ".py",
   "mimetype": "text/x-python",
   "name": "python",
   "nbconvert_exporter": "python",
   "pygments_lexer": "ipython3",
   "version": "3.12.9"
  }
 },
 "nbformat": 4,
 "nbformat_minor": 5
}
